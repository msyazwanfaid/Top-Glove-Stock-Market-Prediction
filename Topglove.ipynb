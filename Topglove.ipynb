{
 "cells": [
  {
   "cell_type": "markdown",
   "metadata": {},
   "source": [
    "### Prediction of Tesla Stock Market using Facebook Algorithm Prophet ###"
   ]
  },
  {
   "cell_type": "markdown",
   "metadata": {},
   "source": [
    "#### 1.0 Loading the Data"
   ]
  },
  {
   "cell_type": "code",
   "execution_count": 43,
   "metadata": {},
   "outputs": [],
   "source": [
    "import numpy as np\n",
    "import pandas as pd\n",
    "import matplotlib.pyplot as plt"
   ]
  },
  {
   "cell_type": "code",
   "execution_count": 44,
   "metadata": {},
   "outputs": [
    {
     "data": {
      "text/html": [
       "<div>\n",
       "<style scoped>\n",
       "    .dataframe tbody tr th:only-of-type {\n",
       "        vertical-align: middle;\n",
       "    }\n",
       "\n",
       "    .dataframe tbody tr th {\n",
       "        vertical-align: top;\n",
       "    }\n",
       "\n",
       "    .dataframe thead th {\n",
       "        text-align: right;\n",
       "    }\n",
       "</style>\n",
       "<table border=\"1\" class=\"dataframe\">\n",
       "  <thead>\n",
       "    <tr style=\"text-align: right;\">\n",
       "      <th></th>\n",
       "      <th>Date</th>\n",
       "      <th>Open</th>\n",
       "      <th>High</th>\n",
       "      <th>Low</th>\n",
       "      <th>Close</th>\n",
       "      <th>Adj Close</th>\n",
       "      <th>Volume</th>\n",
       "    </tr>\n",
       "  </thead>\n",
       "  <tbody>\n",
       "    <tr>\n",
       "      <th>0</th>\n",
       "      <td>2015-09-18</td>\n",
       "      <td>1.8525</td>\n",
       "      <td>1.8525</td>\n",
       "      <td>1.8525</td>\n",
       "      <td>1.8525</td>\n",
       "      <td>1.592808</td>\n",
       "      <td>1600</td>\n",
       "    </tr>\n",
       "    <tr>\n",
       "      <th>1</th>\n",
       "      <td>2015-09-21</td>\n",
       "      <td>1.8525</td>\n",
       "      <td>1.8525</td>\n",
       "      <td>1.8525</td>\n",
       "      <td>1.8525</td>\n",
       "      <td>1.592808</td>\n",
       "      <td>0</td>\n",
       "    </tr>\n",
       "    <tr>\n",
       "      <th>2</th>\n",
       "      <td>2015-09-22</td>\n",
       "      <td>1.8525</td>\n",
       "      <td>1.8525</td>\n",
       "      <td>1.8525</td>\n",
       "      <td>1.8525</td>\n",
       "      <td>1.592808</td>\n",
       "      <td>0</td>\n",
       "    </tr>\n",
       "    <tr>\n",
       "      <th>3</th>\n",
       "      <td>2015-09-23</td>\n",
       "      <td>1.8525</td>\n",
       "      <td>1.8525</td>\n",
       "      <td>1.8525</td>\n",
       "      <td>1.8525</td>\n",
       "      <td>1.592808</td>\n",
       "      <td>0</td>\n",
       "    </tr>\n",
       "    <tr>\n",
       "      <th>4</th>\n",
       "      <td>2015-09-24</td>\n",
       "      <td>1.8525</td>\n",
       "      <td>1.8525</td>\n",
       "      <td>1.8525</td>\n",
       "      <td>1.8525</td>\n",
       "      <td>1.592808</td>\n",
       "      <td>0</td>\n",
       "    </tr>\n",
       "  </tbody>\n",
       "</table>\n",
       "</div>"
      ],
      "text/plain": [
       "         Date    Open    High     Low   Close  Adj Close  Volume\n",
       "0  2015-09-18  1.8525  1.8525  1.8525  1.8525   1.592808    1600\n",
       "1  2015-09-21  1.8525  1.8525  1.8525  1.8525   1.592808       0\n",
       "2  2015-09-22  1.8525  1.8525  1.8525  1.8525   1.592808       0\n",
       "3  2015-09-23  1.8525  1.8525  1.8525  1.8525   1.592808       0\n",
       "4  2015-09-24  1.8525  1.8525  1.8525  1.8525   1.592808       0"
      ]
     },
     "execution_count": 44,
     "metadata": {},
     "output_type": "execute_result"
    }
   ],
   "source": [
    "#load the dataset using pandas\n",
    "data = pd.read_csv(\"E:\\Download\\TGLVY.csv\")\n",
    "data.head(5)"
   ]
  },
  {
   "cell_type": "code",
   "execution_count": 45,
   "metadata": {
    "scrolled": true
   },
   "outputs": [
    {
     "data": {
      "text/html": [
       "<div>\n",
       "<style scoped>\n",
       "    .dataframe tbody tr th:only-of-type {\n",
       "        vertical-align: middle;\n",
       "    }\n",
       "\n",
       "    .dataframe tbody tr th {\n",
       "        vertical-align: top;\n",
       "    }\n",
       "\n",
       "    .dataframe thead th {\n",
       "        text-align: right;\n",
       "    }\n",
       "</style>\n",
       "<table border=\"1\" class=\"dataframe\">\n",
       "  <thead>\n",
       "    <tr style=\"text-align: right;\">\n",
       "      <th></th>\n",
       "      <th>Open</th>\n",
       "      <th>High</th>\n",
       "      <th>Low</th>\n",
       "      <th>Close</th>\n",
       "      <th>Adj Close</th>\n",
       "      <th>Volume</th>\n",
       "    </tr>\n",
       "  </thead>\n",
       "  <tbody>\n",
       "    <tr>\n",
       "      <th>count</th>\n",
       "      <td>1259.000000</td>\n",
       "      <td>1259.000000</td>\n",
       "      <td>1259.000000</td>\n",
       "      <td>1259.000000</td>\n",
       "      <td>1259.000000</td>\n",
       "      <td>1259.000000</td>\n",
       "    </tr>\n",
       "    <tr>\n",
       "      <th>mean</th>\n",
       "      <td>4.840873</td>\n",
       "      <td>4.900047</td>\n",
       "      <td>4.789366</td>\n",
       "      <td>4.844499</td>\n",
       "      <td>4.693945</td>\n",
       "      <td>4334.551231</td>\n",
       "    </tr>\n",
       "    <tr>\n",
       "      <th>std</th>\n",
       "      <td>4.401847</td>\n",
       "      <td>4.555814</td>\n",
       "      <td>4.305542</td>\n",
       "      <td>4.422701</td>\n",
       "      <td>4.466956</td>\n",
       "      <td>16893.115949</td>\n",
       "    </tr>\n",
       "    <tr>\n",
       "      <th>min</th>\n",
       "      <td>1.335000</td>\n",
       "      <td>1.335000</td>\n",
       "      <td>1.335000</td>\n",
       "      <td>1.335000</td>\n",
       "      <td>1.188598</td>\n",
       "      <td>0.000000</td>\n",
       "    </tr>\n",
       "    <tr>\n",
       "      <th>25%</th>\n",
       "      <td>2.500000</td>\n",
       "      <td>2.500000</td>\n",
       "      <td>2.500000</td>\n",
       "      <td>2.500000</td>\n",
       "      <td>2.296507</td>\n",
       "      <td>0.000000</td>\n",
       "    </tr>\n",
       "    <tr>\n",
       "      <th>50%</th>\n",
       "      <td>4.350000</td>\n",
       "      <td>4.400000</td>\n",
       "      <td>4.280000</td>\n",
       "      <td>4.340000</td>\n",
       "      <td>4.256731</td>\n",
       "      <td>0.000000</td>\n",
       "    </tr>\n",
       "    <tr>\n",
       "      <th>75%</th>\n",
       "      <td>5.000000</td>\n",
       "      <td>5.000000</td>\n",
       "      <td>4.960000</td>\n",
       "      <td>5.000000</td>\n",
       "      <td>4.837303</td>\n",
       "      <td>1900.000000</td>\n",
       "    </tr>\n",
       "    <tr>\n",
       "      <th>max</th>\n",
       "      <td>28.200001</td>\n",
       "      <td>29.950001</td>\n",
       "      <td>27.000000</td>\n",
       "      <td>27.600000</td>\n",
       "      <td>27.600000</td>\n",
       "      <td>375100.000000</td>\n",
       "    </tr>\n",
       "  </tbody>\n",
       "</table>\n",
       "</div>"
      ],
      "text/plain": [
       "              Open         High          Low        Close    Adj Close  \\\n",
       "count  1259.000000  1259.000000  1259.000000  1259.000000  1259.000000   \n",
       "mean      4.840873     4.900047     4.789366     4.844499     4.693945   \n",
       "std       4.401847     4.555814     4.305542     4.422701     4.466956   \n",
       "min       1.335000     1.335000     1.335000     1.335000     1.188598   \n",
       "25%       2.500000     2.500000     2.500000     2.500000     2.296507   \n",
       "50%       4.350000     4.400000     4.280000     4.340000     4.256731   \n",
       "75%       5.000000     5.000000     4.960000     5.000000     4.837303   \n",
       "max      28.200001    29.950001    27.000000    27.600000    27.600000   \n",
       "\n",
       "              Volume  \n",
       "count    1259.000000  \n",
       "mean     4334.551231  \n",
       "std     16893.115949  \n",
       "min         0.000000  \n",
       "25%         0.000000  \n",
       "50%         0.000000  \n",
       "75%      1900.000000  \n",
       "max    375100.000000  "
      ]
     },
     "execution_count": 45,
     "metadata": {},
     "output_type": "execute_result"
    }
   ],
   "source": [
    "#Let study the statistics of the Data\n",
    "\n",
    "data.describe()"
   ]
  },
  {
   "cell_type": "markdown",
   "metadata": {},
   "source": [
    "#### 2.0 Build the Predictive Model"
   ]
  },
  {
   "cell_type": "code",
   "execution_count": 46,
   "metadata": {},
   "outputs": [
    {
     "data": {
      "text/html": [
       "<div>\n",
       "<style scoped>\n",
       "    .dataframe tbody tr th:only-of-type {\n",
       "        vertical-align: middle;\n",
       "    }\n",
       "\n",
       "    .dataframe tbody tr th {\n",
       "        vertical-align: top;\n",
       "    }\n",
       "\n",
       "    .dataframe thead th {\n",
       "        text-align: right;\n",
       "    }\n",
       "</style>\n",
       "<table border=\"1\" class=\"dataframe\">\n",
       "  <thead>\n",
       "    <tr style=\"text-align: right;\">\n",
       "      <th></th>\n",
       "      <th>ds</th>\n",
       "      <th>y</th>\n",
       "    </tr>\n",
       "  </thead>\n",
       "  <tbody>\n",
       "    <tr>\n",
       "      <th>0</th>\n",
       "      <td>2015-09-18</td>\n",
       "      <td>1.8525</td>\n",
       "    </tr>\n",
       "    <tr>\n",
       "      <th>1</th>\n",
       "      <td>2015-09-21</td>\n",
       "      <td>1.8525</td>\n",
       "    </tr>\n",
       "    <tr>\n",
       "      <th>2</th>\n",
       "      <td>2015-09-22</td>\n",
       "      <td>1.8525</td>\n",
       "    </tr>\n",
       "    <tr>\n",
       "      <th>3</th>\n",
       "      <td>2015-09-23</td>\n",
       "      <td>1.8525</td>\n",
       "    </tr>\n",
       "    <tr>\n",
       "      <th>4</th>\n",
       "      <td>2015-09-24</td>\n",
       "      <td>1.8525</td>\n",
       "    </tr>\n",
       "  </tbody>\n",
       "</table>\n",
       "</div>"
      ],
      "text/plain": [
       "           ds       y\n",
       "0  2015-09-18  1.8525\n",
       "1  2015-09-21  1.8525\n",
       "2  2015-09-22  1.8525\n",
       "3  2015-09-23  1.8525\n",
       "4  2015-09-24  1.8525"
      ]
     },
     "execution_count": 46,
     "metadata": {},
     "output_type": "execute_result"
    }
   ],
   "source": [
    "#Select only the important feature, which is date and price\n",
    "data =data[[\"Date\",\"Close\"]] #select date and price\n",
    "\n",
    "#Rename the feature as it is compulsory for the model fitting\n",
    "data = data.rename(columns = {\"Date\":\"ds\",\"Close\":\"y\"}) # renaming the column of the DataSet\n",
    "\n",
    "data.head(5)"
   ]
  },
  {
   "cell_type": "code",
   "execution_count": 47,
   "metadata": {},
   "outputs": [
    {
     "data": {
      "text/plain": [
       "<fbprophet.forecaster.Prophet at 0x250e71f0b20>"
      ]
     },
     "execution_count": 47,
     "metadata": {},
     "output_type": "execute_result"
    }
   ],
   "source": [
    "from fbprophet import Prophet\n",
    "\n",
    "m = Prophet(daily_seasonality=True) #Prophet Class (model)\n",
    "m.fit(data) "
   ]
  },
  {
   "cell_type": "code",
   "execution_count": 48,
   "metadata": {},
   "outputs": [
    {
     "data": {
      "image/png": "[encoded data removed]",
      "text/plain": [
       "<Figure size 720x432 with 1 Axes>"
      ]
     },
     "metadata": {},
     "output_type": "display_data"
    }
   ],
   "source": [
    "future=m.make_future_dataframe(periods=365) #number of period in term of days\n",
    "prediction = m.predict(future)\n",
    "m.plot(prediction)\n",
    "\n",
    "plt.title(\"Prediction of the Tesla Stock Price using the Prophet\")\n",
    "plt.xlabel(\"Date\")\n",
    "plt.ylabel(\"Close Stock Price\")\n",
    "plt.show()"
   ]
  },
  {
   "cell_type": "code",
   "execution_count": null,
   "metadata": {},
   "outputs": [],
   "source": []
  },
  {
   "cell_type": "code",
   "execution_count": null,
   "metadata": {},
   "outputs": [],
   "source": []
  },
  {
   "cell_type": "code",
   "execution_count": null,
   "metadata": {},
   "outputs": [],
   "source": []
  }
 ],
 "metadata": {
  "kernelspec": {
   "display_name": "Python 3",
   "language": "python",
   "name": "python3"
  },
  "language_info": {
   "codemirror_mode": {
    "name": "ipython",
    "version": 3
   },
   "file_extension": ".py",
   "mimetype": "text/x-python",
   "name": "python",
   "nbconvert_exporter": "python",
   "pygments_lexer": "ipython3",
   "version": "3.8.5"
  }
 },
 "nbformat": 4,
 "nbformat_minor": 4
}
